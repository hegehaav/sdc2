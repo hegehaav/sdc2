{
 "cells": [
  {
   "cell_type": "markdown",
   "metadata": {},
   "source": [
    "# Advanced Lane Finding Project\n",
    "\n",
    "The goals / steps of this project are the following:\n",
    "\n",
    "* Compute the camera calibration matrix and distortion coefficients given a set of chessboard images.\n",
    "* Apply a distortion correction to raw images.\n",
    "* Use color transforms, gradients, etc., to create a thresholded binary image.\n",
    "* Apply a perspective transform to rectify binary image (\"birds-eye view\").\n",
    "* Detect lane pixels and fit to find the lane boundary.\n",
    "* Determine the curvature of the lane and vehicle position with respect to center.\n",
    "* Warp the detected lane boundaries back onto the original image.\n",
    "* Output visual display of the lane boundaries and numerical estimation of lane curvature and vehicle position.\n",
    "\n",
    "---\n",
    "## Camera calibration"
   ]
  },
  {
   "cell_type": "code",
   "execution_count": 1,
   "metadata": {},
   "outputs": [
    {
     "data": {
      "text/plain": [
       "<matplotlib.figure.Figure at 0x7f561a5cf080>"
      ]
     },
     "metadata": {},
     "output_type": "display_data"
    },
    {
     "data": {
      "text/plain": [
       "<matplotlib.figure.Figure at 0x7f561845d160>"
      ]
     },
     "metadata": {},
     "output_type": "display_data"
    },
    {
     "data": {
      "text/plain": [
       "<matplotlib.figure.Figure at 0x7f5618720d30>"
      ]
     },
     "metadata": {},
     "output_type": "display_data"
    },
    {
     "data": {
      "text/plain": [
       "<matplotlib.figure.Figure at 0x7f561843b668>"
      ]
     },
     "metadata": {},
     "output_type": "display_data"
    },
    {
     "data": {
      "text/plain": [
       "<matplotlib.figure.Figure at 0x7f56183e4198>"
      ]
     },
     "metadata": {},
     "output_type": "display_data"
    },
    {
     "data": {
      "text/plain": [
       "<matplotlib.figure.Figure at 0x7f561839e588>"
      ]
     },
     "metadata": {},
     "output_type": "display_data"
    },
    {
     "data": {
      "text/plain": [
       "<matplotlib.figure.Figure at 0x7f5618359978>"
      ]
     },
     "metadata": {},
     "output_type": "display_data"
    },
    {
     "data": {
      "text/plain": [
       "<matplotlib.figure.Figure at 0x7f5618314d68>"
      ]
     },
     "metadata": {},
     "output_type": "display_data"
    },
    {
     "data": {
      "text/plain": [
       "<matplotlib.figure.Figure at 0x7f56182d6198>"
      ]
     },
     "metadata": {},
     "output_type": "display_data"
    },
    {
     "data": {
      "text/plain": [
       "<matplotlib.figure.Figure at 0x7f561828f588>"
      ]
     },
     "metadata": {},
     "output_type": "display_data"
    },
    {
     "data": {
      "text/plain": [
       "<matplotlib.figure.Figure at 0x7f561824a978>"
      ]
     },
     "metadata": {},
     "output_type": "display_data"
    },
    {
     "data": {
      "text/plain": [
       "<matplotlib.figure.Figure at 0x7f5618284d68>"
      ]
     },
     "metadata": {},
     "output_type": "display_data"
    },
    {
     "data": {
      "text/plain": [
       "<matplotlib.figure.Figure at 0x7f5618243198>"
      ]
     },
     "metadata": {},
     "output_type": "display_data"
    },
    {
     "data": {
      "text/plain": [
       "<matplotlib.figure.Figure at 0x7f56181fc588>"
      ]
     },
     "metadata": {},
     "output_type": "display_data"
    },
    {
     "data": {
      "text/plain": [
       "<matplotlib.figure.Figure at 0x7f56181b9978>"
      ]
     },
     "metadata": {},
     "output_type": "display_data"
    },
    {
     "data": {
      "text/plain": [
       "<matplotlib.figure.Figure at 0x7f56181a2940>"
      ]
     },
     "metadata": {},
     "output_type": "display_data"
    },
    {
     "data": {
      "text/plain": [
       "<matplotlib.figure.Figure at 0x7f561844b668>"
      ]
     },
     "metadata": {},
     "output_type": "display_data"
    },
    {
     "name": "stdout",
     "output_type": "stream",
     "text": [
      "Camera calibrated\n"
     ]
    }
   ],
   "source": [
    "import numpy as np\n",
    "import cv2\n",
    "import matplotlib.pyplot as plt\n",
    "import matplotlib.image as mpimg\n",
    "import glob\n",
    "\n",
    "# prepare object points, like (0,0,0), (1,0,0), (2,0,0) ....,(6,5,0)\n",
    "objp = np.zeros((6*9,3), np.float32)\n",
    "objp[:,:2] = np.mgrid[0:9,0:6].T.reshape(-1,2)\n",
    "\n",
    "# Arrays to store object points and image points from all the images.\n",
    "objpoints = [] # 3d points in real world space\n",
    "imgpoints = [] # 2d points in image plane.\n",
    "\n",
    "# Make a list of calibration images\n",
    "images = glob.glob('./camera_cal/calibration*.jpg')\n",
    "\n",
    "# Step through the list and search for chessboard corners\n",
    "for fname in images:\n",
    "    img = cv2.imread(fname)\n",
    "    gray = cv2.cvtColor(img,cv2.COLOR_BGR2GRAY)\n",
    "\n",
    "    # Find the chessboard corners\n",
    "    ret, corners = cv2.findChessboardCorners(gray, (9,6),None)\n",
    "\n",
    "    # If found, add object points, image points\n",
    "    if ret == True:\n",
    "        objpoints.append(objp)\n",
    "        imgpoints.append(corners)\n",
    "\n",
    "        # Draw and display the corners\n",
    "        img = cv2.drawChessboardCorners(img, (9,6), corners, ret)\n",
    "        plt.imshow(img)\n",
    "        plt.show()\n",
    "\n",
    "# Finnaly, compute the camera calibration matrix and distortion coefficients \n",
    "ret, mtx, dist, rvecs, tvecs = cv2.calibrateCamera(objpoints, imgpoints, gray.shape[::-1], None, None)\n",
    "\n",
    "print('Camera calibrated')"
   ]
  },
  {
   "cell_type": "markdown",
   "metadata": {},
   "source": [
    "---\n",
    "## Parameters"
   ]
  },
  {
   "cell_type": "code",
   "execution_count": 10,
   "metadata": {},
   "outputs": [],
   "source": [
    "\n",
    "\n",
    "# Color thresholds\n",
    "s_thresh = (100,255)\n",
    "\n",
    "# Gradient thresholds\n",
    "x_thresh = (30,100)\n",
    "y_thresh = (20,100)\n",
    "mag_thresh = (50,150)\n",
    "dir_thresh=(0.7,1.3)\n",
    "\n",
    "# Gradient kernel sizes\n",
    "x_ksize = 3\n",
    "y_ksize = 3\n",
    "mag_ksize = 9\n",
    "dir_ksize = 15\n",
    "\n",
    "# Sliding window properties \n",
    "nwindows=9\n",
    "window_margin=60\n",
    "minpix=50\n",
    "search_poly_margin = 60\n",
    "\n",
    "# Line finding parameters\n",
    "num_look_back = 6\n",
    "max_fails = 3\n",
    "\n",
    "# Sanity parameters\n",
    "curve_threshold = 10000\n",
    "lane_width_thresholds = [3,5]\n",
    "\n",
    "#Convertion parameters\n",
    "xm_px = 3.7/500\n",
    "ym_px = 30/1000"
   ]
  },
  {
   "cell_type": "markdown",
   "metadata": {},
   "source": [
    "---\n",
    "## Helper functions"
   ]
  },
  {
   "cell_type": "code",
   "execution_count": 3,
   "metadata": {},
   "outputs": [],
   "source": [
    "\n",
    "def grayscale(img):\n",
    "    \"\"\"Applies the Grayscale transform\"\"\"\n",
    "    return cv2.cvtColor(img, cv2.COLOR_RGB2GRAY)\n",
    "    \n",
    "def undistort(img):\n",
    "    \"\"\"Applies a distortion correction to raw images\"\"\"\n",
    "    return cv2.undistort(img, mtx, dist)\n",
    "\n",
    "\n",
    "def abs_sobel_threshold(gray, ksize, thresh, orient='x'):\n",
    "    \"\"\"Calculate directional gradient and apply threshold\"\"\"\n",
    "    # Take the derivative in x or y given orient = 'x' or 'y'\n",
    "    if orient=='x': \n",
    "        sobel = cv2.Sobel(gray, cv2.CV_64F, 1, 0, ksize=ksize)\n",
    "    elif orient=='y': \n",
    "        sobel = cv2.Sobel(gray, cv2.CV_64F, 0, 1, ksize=ksize)\n",
    "    else: \n",
    "        print(\"Unknown orient for abs_sobel_treshold\")\n",
    "        \n",
    "    # Take the absolute value of the derivative or gradient\n",
    "    abs_sobel = np.absolute(sobel)\n",
    "    # Scale to 8-bit (0 - 255) then convert to type = np.uint8\n",
    "    scaled_sobel = np.uint8(255 * abs_sobel / np.max(abs_sobel))\n",
    "    # Create a mask of 1's where the scaled gradient magnitude\n",
    "    # is > thresh_min and < thresh_max\n",
    "    binary_output = np.zeros_like(scaled_sobel)\n",
    "    binary_output[(scaled_sobel >= thresh[0]) & (scaled_sobel <= thresh[1])] = 1\n",
    "    # Return this mask as your binary_output image\n",
    "    return binary_output\n",
    "\n",
    "\n",
    "def mag_threshold(gray, ksize, thresh):\n",
    "    \"\"\"Calculate gradient magnitude and apply threshold\"\"\"\n",
    "    # Take the gradient in x and y separately\n",
    "    sobelx = cv2.Sobel(gray, cv2.CV_64F, 1, 0, ksize=ksize)\n",
    "    sobely = cv2.Sobel(gray, cv2.CV_64F, 0, 1, ksize=ksize)\n",
    "    # Calculate the magnitude\n",
    "    mag = np.sqrt(sobelx**2 + sobely**2)\n",
    "    # Scale to 8-bit (0 - 255) and convert to type = np.uint8\n",
    "    scaled = np.uint8(255 * mag / np.max(mag))\n",
    "    # Create a binary mask where mag thresholds are met\n",
    "    binary_output = np.zeros_like(scaled)\n",
    "    binary_output[(scaled > thresh[0]) & (scaled < thresh[1])] = 1\n",
    "    # Return this mask as your binary_output image\n",
    "    return binary_output\n",
    "\n",
    "\n",
    "def dir_threshold(gray, ksize, thresh):\n",
    "    \"\"\"Calculate gradient direction and apply threshold\"\"\"\n",
    "    # Calculate the x and y gradients\n",
    "    sobelx = cv2.Sobel(gray, cv2.CV_64F, 1, 0, ksize=ksize)\n",
    "    sobely = cv2.Sobel(gray, cv2.CV_64F, 0, 1, ksize=ksize)\n",
    "    # Take the absolute value of the gradient direction,\n",
    "    # apply a threshold, and create a binary image result\n",
    "    absgraddir = np.arctan2(np.absolute(sobely), np.absolute(sobelx))\n",
    "    binary_output = np.zeros_like(absgraddir)\n",
    "    binary_output[(absgraddir >= thresh[0]) & (absgraddir <= thresh[1])] = 1\n",
    "\n",
    "    # Return the binary image\n",
    "    return binary_output\n",
    "\n",
    "\n",
    "\n",
    "def apply_thresholds(img, s_thresh, x_thresh, x_ksize, y_thresh, y_ksize, mag_thresh, mag_ksize, dir_thresh, dir_ksize):\n",
    "    img = np.copy(img)\n",
    "    # Convert to HLS color space\n",
    "    hls = cv2.cvtColor(img, cv2.COLOR_RGB2HLS)\n",
    "    l_channel = hls[:,:,1]\n",
    "    s_channel = hls[:,:,2]\n",
    "    \n",
    "    #Threshold directional gradients\n",
    "    gradx = abs_sobel_threshold(l_channel, x_ksize, x_thresh, orient='x')\n",
    "    grady = abs_sobel_threshold(l_channel, y_ksize, y_thresh, orient='y')\n",
    "    \n",
    "    \n",
    "    #Threshold gradient magnitude\n",
    "    mag_binary = mag_threshold(l_channel, mag_ksize, mag_thresh)\n",
    "    \n",
    "    #Threshold gradient direction\n",
    "    dir_binary = dir_threshold(l_channel,dir_ksize,dir_thresh)\n",
    "    \n",
    "    combined = np.zeros_like(gradx)\n",
    "    combined[((gradx == 1) & (grady == 1)) | ((mag_binary==1) & (dir_binary==1))] = 1 \n",
    " \n",
    "    # Threshold color channel\n",
    "    s_binary = np.zeros_like(s_channel)\n",
    "    s_binary[(s_channel >= s_thresh[0]) & (s_channel <= s_thresh[1])] = 1\n",
    "    \n",
    "    # Stack each channel\n",
    "    color = np.dstack(( np.zeros_like(s_binary), s_binary, combined)) * 255\n",
    "    \n",
    "    # Binary\n",
    "    binary = np.zeros_like(gradx)\n",
    "    binary[((s_binary==1) | (combined==1))] = 1\n",
    "    \n",
    "    return color, binary #? hva er forskjellen\n",
    "\n",
    "def region_of_interest(img, vertices):\n",
    "    \"\"\"\n",
    "    Applies an image mask.\n",
    "\n",
    "    Only keeps the region of the image defined by the polygon\n",
    "    formed from `vertices`. The rest of the image is set to black.\n",
    "    `vertices` should be a numpy array of integer points.\n",
    "    \"\"\"\n",
    "    # defining a blank mask to start with\n",
    "    mask = np.zeros_like(img)\n",
    "\n",
    "    # defining a 3 channel or 1 channel color to fill the mask with depending on the input image\n",
    "    if len(img.shape) > 2:\n",
    "        channel_count = img.shape[2]  # i.e. 3 or 4 depending on your image\n",
    "        ignore_mask_color = (255,) * channel_count\n",
    "    else:\n",
    "        ignore_mask_color = 255\n",
    "\n",
    "    # filling pixels inside the polygon defined by \"vertices\" with the fill color\n",
    "    cv2.fillPoly(mask, vertices, ignore_mask_color)\n",
    "\n",
    "    # returning the image only where mask pixels are nonzero\n",
    "    masked_image = cv2.bitwise_and(img, mask)\n",
    "    return masked_image\n",
    "\n",
    "def fit(img_shape, x, y, real=False):\n",
    "    \"\"\"\n",
    "    Calculates a second degree function approximation for the data.\n",
    "\n",
    "    Returns funcion coeffisients and function. Converts from pixel values to meters if\n",
    "    'real' is true.\n",
    "    \"\"\"\n",
    "    if real:\n",
    "        coef =  np.polyfit(y*ym_px, x*xm_px, 2)\n",
    "    else:\n",
    "        coef = np.polyfit(y,x,2)\n",
    "    \n",
    "    f = np.poly1d(coef)\n",
    "    \n",
    "    \n",
    "    return coef, f\n",
    "    \n",
    "\n",
    "\n",
    "def transform_perspective(img):\n",
    "    \n",
    "    src = np.float32([[570,465],[720,465],[273,665],[1033,665]])\n",
    "    xmax =img.shape[1]\n",
    "    ymax=img.shape[0]\n",
    "    dst = np.float32([[xmax*0.3, ymax*0.3], [xmax*0.7, ymax*0.3],[xmax*0.3, ymax],[xmax*0.7, ymax]])\n",
    "    # M, the transform matrix\n",
    "    M = cv2.getPerspectiveTransform(src, dst)\n",
    "    Minv = cv2.getPerspectiveTransform(dst, src)\n",
    "    \n",
    "    # Minv, the inverse perspective transform \n",
    "    # warp your image to a top-down view\n",
    "    warped = cv2.warpPerspective(img, M, (xmax,ymax), flags=cv2.INTER_LINEAR)\n",
    "    return warped, M, Minv\n",
    "\n",
    "def project_lanes_onto_original_image(shape, undist, binary_warped, left_x, right_x, y, Minv): \n",
    "    \"\"\"todo\"\"\"\n",
    "    if left_x is None or right_x is None:\n",
    "        return undist\n",
    "    \n",
    "    # Create an image to draw the lines on\n",
    "    warp_zero = np.zeros_like(binary_warped).astype(np.uint8)\n",
    "    color_warp = np.dstack((warp_zero, warp_zero, warp_zero))\n",
    "    \n",
    "    # Recast the x and y points into usable format for cv2.fillPoly()\n",
    "    pts_left = np.array([np.transpose(np.vstack([left_x, y]))])\n",
    "    pts_right = np.array([np.flipud(np.transpose(np.vstack([right_x, y])))])\n",
    "    pts = np.hstack((pts_left, pts_right))\n",
    "\n",
    "    # Draw the lane onto the warped blank image\n",
    "    cv2.fillPoly(color_warp, np.int_([pts]), (0,255, 0))\n",
    "\n",
    "    # Warp the blank back to original image space using inverse perspective matrix (Minv)\n",
    "    newwarp = cv2.warpPerspective(color_warp, Minv, (shape[1], shape[0])) \n",
    "    # Combine the result with the original image\n",
    "    original_image_with_lanes = cv2.addWeighted(undist, 1, newwarp, 0.3, 0)\n",
    "    \n",
    "    # Return original image with detected lanes \n",
    "    return original_image_with_lanes\n",
    "\n",
    "def measure_curvature(y_eval, coef):\n",
    "    \"\"\"\n",
    "    Calculate the curvature of polynomial functions in pixels, using the formula:\n",
    "    R = (1+(f'(y))^2)^(3/2) / |f''(y)|\n",
    "    f(y) = Ay^2 + By + C\n",
    "    \"\"\"\n",
    "    \n",
    "    return np.power((1+np.power((2*coef[0]*y_eval+coef[1]),2)),(3/2))/np.abs(2*coef[0]) \n",
    "    \n",
    "\n",
    "\n",
    "def average_lane_width(left_E_x, right_E_y):\n",
    "    \"\"\"\n",
    "    Measures the distance between the lines at the bottom, middle and top of the road,\n",
    "    returning the average distance from the three points\n",
    "    \"\"\"\n",
    "    l = len(left_E_x)\n",
    "    width_low = right_E_y[-1]-left_E_x[-1]\n",
    "    width_middle = right_E_y[l//2]-left_E_x[l//2]\n",
    "    width_high = right_E_y[0]-left_E_x[0]\n",
    "\n",
    "    average_length = np.mean([width_low, width_middle, width_high])\n",
    "\n",
    "    return average_length\n",
    "\n",
    "def sanity_check(left_fit, right_fit, left_x, right_x, y, curve_threshold, lane_width_thresholds):\n",
    "    \"\"\"\n",
    "    Performs a sanity check on two lines, evaluating avg distance and similarity in curvature \n",
    "    Returns True if the lines make sense , or False if they dont make sende\n",
    "    \"\"\"\n",
    "\n",
    "\n",
    "    # Calculate curvature radius of left line and right line\n",
    "    left_rad = measure_curvature_pixels(y, left_fit)\n",
    "    right_rad = measure_curvature_pixels(y, right_fit)\n",
    "\n",
    "\n",
    "\n",
    "    # Calculate avarega lane width\n",
    "    avg_width = average_lane_width(left_x, right_x)\n",
    "\n",
    "    # Checking if the curvatures of the lines are similar enough\n",
    "    if(abs(left_rad-right_rad) >= curve_threshold):\n",
    "        return False\n",
    "    # Checking if the width between the lines makes sense\n",
    "    elif(avg_width < lane_width_thresholds[0] or avg_width> lane_width_thresholds[1]):\n",
    "        return False  \n",
    "    else:\n",
    "        return True"
   ]
  },
  {
   "cell_type": "markdown",
   "metadata": {},
   "source": [
    "--- \n",
    "## Line Class"
   ]
  },
  {
   "cell_type": "code",
   "execution_count": 4,
   "metadata": {},
   "outputs": [],
   "source": [
    "# Define a class to receive the characteristics of each line detection\n",
    "class Line():\n",
    "    def __init__(self):\n",
    "        self.not_detected = 0\n",
    "        \n",
    "        # Stores coefficients\n",
    "        self.last_fits = []\n",
    "        self.best_fit = None\n",
    "        self.current_fit = None\n",
    "        \n",
    "        # Stores x values\n",
    "        self.last_xs = []\n",
    "        self.best_x = None\n",
    "        self.current_x = None\n",
    "        \n",
    "    def reset(self):\n",
    "        self.__init__()\n",
    "        print('reset', len(self.last_fits))\n",
    "\n",
    "\n",
    "\n",
    "    def update(self, x, fit, sanity):\n",
    "        if not sanity:\n",
    "            self.not_detected += 1\n",
    "        else:\n",
    "\n",
    "            self.last_fits.append(fit)\n",
    "            self.current_fit = fit\n",
    "            \n",
    "            self.last_xs.append(x)\n",
    "            self.current_x = x\n",
    "    \n",
    "            if len(self.last_fits)>=num_look_back:\n",
    "                self.last_fits.pop(0)\n",
    "                self.last_xs.pop(0)\n",
    "            \n",
    "            \n",
    "            self.best_fit = np.mean(self.last_fits, axis=0)\n",
    "            self.best_x = np.mean(self.last_xs, axis=0)\n",
    "            return True\n",
    "               \n",
    "        if self.not_detected > max_fails:\n",
    "            \n",
    "            self.reset()\n",
    "            return False\n"
   ]
  },
  {
   "cell_type": "markdown",
   "metadata": {},
   "source": [
    "--- \n",
    "## Finding Lanes "
   ]
  },
  {
   "cell_type": "code",
   "execution_count": 5,
   "metadata": {},
   "outputs": [],
   "source": [
    "def sliding_windows(img, nwindows, margin, minpix, debug=False ):\n",
    "    \"\"\"Using peaks in histogram to find the starting points of the lanes \n",
    "    and then using sliding windows to find the positions of the rest of the left and right lane pixels\"\"\"\n",
    "    \n",
    "\n",
    "    # Take a histogram of the bottom half of the image\n",
    "    histogram = np.sum(img[img.shape[0]//2:,:], axis=0)\n",
    "\n",
    "    # Find the peak of the left and right halves of the histogram\n",
    "    # These will be the starting point for the left and right lines\n",
    "    midpoint = np.int(histogram.shape[0]//2)\n",
    "    leftx_base = np.argmax(histogram[:midpoint])\n",
    "    rightx_base = np.argmax(histogram[midpoint:]) + midpoint\n",
    "\n",
    "    # Set height of windows - based on nwindows above and image shape\n",
    "    window_height = np.int(img.shape[0]//nwindows)\n",
    "    # Identify the x and y positions of all nonzero pixels in the image\n",
    "    nonzero = img.nonzero()\n",
    "    nonzeroy = np.array(nonzero[0])\n",
    "    nonzerox = np.array(nonzero[1])\n",
    "\n",
    "    # Current positions to be updated later for each window in nwindows\n",
    "    leftx_current = leftx_base\n",
    "    rightx_current = rightx_base\n",
    "\n",
    "    # Create empty lists to receive left and right lane pixel indices\n",
    "    left_lane_inds = []\n",
    "    right_lane_inds = []\n",
    "    \n",
    "    if debug:\n",
    "        out_img = np.dstack((img, img, img))\n",
    "        \n",
    "    # Step through the windows one by one\n",
    "    for window in range(nwindows):\n",
    "        # Identify window boundaries in x and y (and right and left)\n",
    "        win_y_low = img.shape[0] - (window+1)*window_height\n",
    "        win_y_high = img.shape[0] - window*window_height\n",
    "        win_xleft_low = leftx_current - margin\n",
    "        win_xleft_high = leftx_current + margin\n",
    "        win_xright_low = rightx_current - margin\n",
    "        win_xright_high = rightx_current + margin\n",
    "\n",
    "        if(debug):\n",
    "            \n",
    "            # Draw the windows on the visualization image\n",
    "            cv2.rectangle(out_img,(win_xleft_low,win_y_low),\n",
    "            (win_xleft_high,win_y_high),(0,255,0), 2)\n",
    "            cv2.rectangle(out_img,(win_xright_low,win_y_low),\n",
    "            (win_xright_high,win_y_high),(0,255,0), 2)\n",
    "  \n",
    "            \n",
    "\n",
    "        # Identify the nonzero pixels in x and y within the window #\n",
    "        good_left_inds = ((nonzeroy >= win_y_low) & (nonzeroy < win_y_high) &\n",
    "        (nonzerox >= win_xleft_low) &  (nonzerox < win_xleft_high)).nonzero()[0]\n",
    "        good_right_inds = ((nonzeroy >= win_y_low) & (nonzeroy < win_y_high) &\n",
    "        (nonzerox >= win_xright_low) &  (nonzerox < win_xright_high)).nonzero()[0]\n",
    "\n",
    "        # Append these indices to the lists\n",
    "        left_lane_inds.append(good_left_inds)\n",
    "        right_lane_inds.append(good_right_inds)\n",
    "        \n",
    "\n",
    "        # If you found > minpix pixels, recenter next window on their mean position\n",
    "        if len(good_left_inds) > minpix:\n",
    "            leftx_current = np.int(np.mean(nonzerox[good_left_inds]))\n",
    "        if len(good_right_inds) > minpix:\n",
    "            rightx_current = np.int(np.mean(nonzerox[good_right_inds]))\n",
    "\n",
    "\n",
    "    # Concatenate the arrays of indices (previously was a list of lists of pixels)\n",
    "    try:\n",
    "        left_lane_inds = np.concatenate(left_lane_inds)\n",
    "        right_lane_inds = np.concatenate(right_lane_inds)\n",
    "    except ValueError:\n",
    "        # Avoids an error if the above is not implemented fully\n",
    "        pass\n",
    "\n",
    "    # Extract left and right line pixel positions\n",
    "    leftx = nonzerox[left_lane_inds]\n",
    "    lefty = nonzeroy[left_lane_inds]\n",
    "    rightx = nonzerox[right_lane_inds]\n",
    "    righty = nonzeroy[right_lane_inds]\n",
    "\n",
    "    if debug:\n",
    "        out_img[lefty,leftx] = [255,0,0]\n",
    "        out_img[righty,rightx] = [0,0,255]\n",
    "        print(\"Sliding windows:\")\n",
    "        plt.imshow(out_img)\n",
    "        plt.show()\n",
    "        \n",
    "    return leftx, lefty, rightx, righty \n",
    "\n",
    "\n",
    "def search_around_poly(img, left_fit,right_fit, margin, debug=False):\n",
    "\n",
    "    # Grab activated pixels\n",
    "    nonzero = img.nonzero()\n",
    "    nonzeroy = np.array(nonzero[0])\n",
    "    nonzerox = np.array(nonzero[1])\n",
    "\n",
    "\n",
    "    # Find search area of actuvated x-values, within the margin of the polynomial function\n",
    "    left_lane_inds = (\n",
    "        (nonzerox > (left_fit[0]*(nonzeroy**2) + left_fit[1]*nonzeroy) + left_fit[2] - margin) &\n",
    "        (nonzerox < (left_fit[0]*(nonzeroy**2) + left_fit[1]*nonzeroy) + left_fit[2] + margin))\n",
    "    right_lane_inds = (\n",
    "        (nonzerox > (right_fit[0]*(nonzeroy**2) + right_fit[1]*nonzeroy) + right_fit[2] - margin) &\n",
    "        (nonzerox < (right_fit[0]*(nonzeroy**2) + right_fit[1]*nonzeroy) + right_fit[2] + margin))\n",
    "\n",
    "    # Extract left and right line pixel positions\n",
    "    leftx = nonzerox[left_lane_inds]\n",
    "    lefty = nonzeroy[left_lane_inds]\n",
    "    rightx = nonzerox[right_lane_inds]\n",
    "    righty = nonzeroy[right_lane_inds]\n",
    "    \n",
    "    \n",
    "    if debug: \n",
    "        \n",
    "        ploty = np.linspace(0, img.shape[0]-1, img.shape[0])\n",
    "        left_f = np.poly1d(left_fit)\n",
    "        right_f = np.poly1d(right_fit)\n",
    "        left_fitx = left_f(ploty)\n",
    "        right_fitx = right_f(ploty)\n",
    "\n",
    "        ## Visualization ##\n",
    "        # Create an image to draw on and an image to show the selection window\n",
    "        out_img = np.dstack((img, img, img))*255\n",
    "        window_img = np.zeros_like(out_img)\n",
    "        # Color in left and right line pixels\n",
    "        out_img[lefty, leftx] = [255, 0, 0]\n",
    "        out_img[righty, rightx] = [0, 0, 255]\n",
    "\n",
    "        # Generate a polygon to illustrate the search window area\n",
    "        # And recast the x and y points into usable format for cv2.fillPoly()\n",
    "        left_line_window1 = np.array([np.transpose(np.vstack([left_fitx-margin, ploty]))])\n",
    "        left_line_window2 = np.array([np.flipud(np.transpose(np.vstack([left_fitx+margin,\n",
    "                                  ploty])))])\n",
    "        left_line_pts = np.hstack((left_line_window1, left_line_window2))\n",
    "        right_line_window1 = np.array([np.transpose(np.vstack([right_fitx-margin, ploty]))])\n",
    "        right_line_window2 = np.array([np.flipud(np.transpose(np.vstack([right_fitx+margin,\n",
    "                                  ploty])))])\n",
    "        right_line_pts = np.hstack((right_line_window1, right_line_window2))\n",
    "\n",
    "        # Draw the lane onto the warped blank image\n",
    "        cv2.fillPoly(window_img, np.int_([left_line_pts]), (0,255, 0))\n",
    "        cv2.fillPoly(window_img, np.int_([right_line_pts]), (0,255, 0))\n",
    "        result = cv2.addWeighted(out_img, 1, window_img, 0.3, 0)\n",
    "\n",
    "        # Plot the polynomial lines onto the image\n",
    "        plt.plot(left_fitx, ploty, color='yellow')\n",
    "        plt.plot(right_fitx, ploty, color='yellow')\n",
    "        \n",
    "        print(\"Search around poly debug\")\n",
    "        plt.imshow(result)\n",
    "        plt.show()\n",
    "    \n",
    "        ## End visualization steps ##\n",
    "\n",
    "    return leftx, lefty, rightx, righty\n",
    "\n",
    "def find_lane_pixels(img, nwindows, margin_window, margin_poly_search, minpix, debug=False):\n",
    "    \"\"\" Takes an binary warped image and returns it with lanes drawn onto it \"\"\"\n",
    "    \n",
    "    if(left_line.current_fit is None or right_line.current_fit is None):\n",
    "        # Finding lane pixels \n",
    "        leftx, lefty, rightx, righty = sliding_windows(img, nwindows, margin_window, minpix, debug=debug)\n",
    "    else: \n",
    "        leftx, lefty, rightx, righty =  search_around_poly(img,left_line.best_fit,right_line.best_fit, margin_poly_search, debug=debug)\n",
    "\n",
    "    return leftx, lefty, rightx, righty\n",
    "\n",
    "\n"
   ]
  },
  {
   "cell_type": "markdown",
   "metadata": {},
   "source": [
    "---\n",
    "## Main pipeline"
   ]
  },
  {
   "cell_type": "code",
   "execution_count": null,
   "metadata": {},
   "outputs": [],
   "source": []
  },
  {
   "cell_type": "code",
   "execution_count": 6,
   "metadata": {},
   "outputs": [],
   "source": [
    "import time\n",
    "\n",
    "def process_image(img, debug=False):\n",
    "    \"\"\"\n",
    "    Takes the original image, and returns it with the detected lanes drwan onto it. \n",
    "    This is done by: undistorting image, applying color and gradient tresholds, selecting region of interest, \n",
    "    performing perspective transform,  detecting lanes, transforming lanes back to original image \n",
    "    and drawing them onto original image\n",
    "    \"\"\"\n",
    "    \n",
    "    \n",
    "    \n",
    "    if debug:\n",
    "        timers=[]\n",
    "        print(\"\")\n",
    "        timers.append(time.time())\n",
    "        \n",
    "        print('0. Raw image')\n",
    "        plt.imshow(img)\n",
    "        plt.show()\n",
    "    \n",
    "    undist = undistort(img)\n",
    "    \n",
    "    if debug:\n",
    "        timers.append(time.time())\n",
    "        print('1. Undistorted image')\n",
    "        plt.imshow(undist)\n",
    "        plt.show()\n",
    "        \n",
    "    stacked, binary = apply_thresholds(undist, s_thresh, x_thresh, x_ksize, y_thresh, y_ksize, mag_thresh, mag_ksize, dir_thresh, dir_ksize)\n",
    "    \n",
    "    y_max = img.shape[0]\n",
    "    x_max = img.shape[1]\n",
    "    vertices = np.array([[(x_max*0.15, y_max), (x_max * 0.45, y_max * 0.59), (x_max * 0.55, y_max * 0.59), (x_max*1, y_max)]], dtype=np.int32)\n",
    "    \n",
    "    \n",
    "    binary = region_of_interest(img=binary, vertices=vertices)\n",
    "    \n",
    "    if debug:\n",
    "        print('2. Stacked thresholds (blue = gradient, green = color)')\n",
    "        timers.append(time.time())\n",
    "        plt.imshow(stacked)\n",
    "        plt.show()\n",
    "        \n",
    "        print('2. Binary thresholds (masked)')\n",
    "        plt.imshow(binary, cmap=\"gray\")\n",
    "        plt.show()\n",
    "    \n",
    "    warped, M, Minv = transform_perspective(undist)\n",
    "    warped_binary, M, Minv = transform_perspective(binary)\n",
    "\n",
    "    if debug:\n",
    "        timers.append(time.time())\n",
    "        print('3. Perspective change: warped')\n",
    "        plt.imshow(warped)\n",
    "        plt.show()\n",
    "        print('3. Perspective change: warped binary')\n",
    "        plt.imshow(warped_binary, cmap =\"gray\")\n",
    "        plt.show()\n",
    "    \n",
    "    \n",
    "    \n",
    "    cont = False\n",
    "\n",
    "    # Generate y values for pixel world\n",
    "    y_px = np.linspace(0, img.shape[0]-1, img.shape[0])\n",
    "\n",
    "    while not cont:\n",
    "        cont=True\n",
    "        # Retrieve lane pixels\n",
    "        left_x, left_y, right_x, right_y = find_lane_pixels(warped_binary, nwindows, window_margin, search_poly_margin, minpix, debug=debug)\n",
    "\n",
    "        # Calculate fit in both pixel world and real world, the first returned value is the\n",
    "        # function coefficients, while the second value is the actual function\n",
    "        left_coef_px, left_f_px = fit(warped_binary.shape, left_x, left_y)\n",
    "        left_coef_m, left_f_m = fit(warped_binary.shape, left_x, left_y, real=True)\n",
    "\n",
    "        right_coef_px, right_f_px = fit(warped_binary.shape, right_x, right_y)\n",
    "        right_coef_m, right_f_m = fit(warped_binary.shape, right_x, right_y,real=True)\n",
    "\n",
    "        # Generate expected x values for the pixel world\n",
    "        left_Ex_px = left_f_px(y_px)\n",
    "        right_Ex_px = right_f_px(y_px)\n",
    "\n",
    "\n",
    "\n",
    "        # Calculate curvature in real world\n",
    "        y_eval = y_px[-1]*ym_px\n",
    "        left_curverad = measure_curvature(y_eval, left_coef_m)\n",
    "        right_curverad = measure_curvature(y_eval, right_coef_m) \n",
    "\n",
    "        sanity = True\n",
    "        cont = left_line.update(left_Ex_px, left_coef_px, sanity) and right_line.update(right_Ex_px, right_coef_px ,sanity)\n",
    "        \n",
    "    \n",
    "    \n",
    "    if debug:\n",
    "        print(\"4. Fit Lines (red = this frame, blue = lookback averaged)\")\n",
    "        timers.append(time.time())\n",
    "        plt.plot(left_Ex_px, y_px, color=\"red\")\n",
    "        plt.plot(right_Ex_px, y_px, color=\"red\")\n",
    "        plt.plot(left_line.best_x, y_px, color=\"blue\")\n",
    "        plt.plot(right_line.best_x, y_px, color=\"blue\")\n",
    "        plt.imshow(warped)\n",
    "        plt.show()\n",
    "    \n",
    "    if(debug):\n",
    "        print(\"Left curvature:\", left_curverad, \"m\")\n",
    "        print(\"Right curvature:\", right_curverad, \"m\")\n",
    "\n",
    "        # Caluate average lane width in pixels and convert them to meters\n",
    "        avg_lane_width = average_lane_width(left_Ex_px, right_Ex_px) * xm_px\n",
    "        print(\"Avarage lane width:\", avg_lane_width, \"m\")\n",
    "        \n",
    "    img_with_lanes = project_lanes_onto_original_image(warped_binary.shape, undist, warped_binary, left_line.best_x, right_line.best_x, y_px, Minv)\n",
    "    \n",
    "    if debug: \n",
    "        print('5. Original image with detected lanes')\n",
    "        timers.append(time.time())\n",
    "        \n",
    "    if(debug):\n",
    "        print('---')\n",
    "\n",
    "    if(debug):\n",
    "        print('Processing complete! Time usage:')\n",
    "        total = timers[-1]-timers[0]\n",
    "        \n",
    "        for i in range(1,len(timers)):\n",
    "            print(i, ((timers[i]-timers[i-1])*100)/total,\"%\")\n",
    "    return img_with_lanes\n",
    "    #return warped_binary, undist, left_fitx, right_fitx, ploty\n",
    "    "
   ]
  },
  {
   "cell_type": "markdown",
   "metadata": {},
   "source": [
    "---\n",
    "## Test"
   ]
  },
  {
   "cell_type": "code",
   "execution_count": 11,
   "metadata": {
    "scrolled": true
   },
   "outputs": [
    {
     "name": "stdout",
     "output_type": "stream",
     "text": [
      "74\n"
     ]
    },
    {
     "data": {
      "text/plain": [
       "'\\n# Iterate over all test images and show the detected lanes \\nfor fname in images:\\n    \\n    #left_line = Line()\\n    #right_line = Line()\\n\\n    img = mpimg.imread(fname)\\n    img_with_lanes = process_image(img, debug=True)\\n    print(\"Results:\")\\n    plt.imshow(img_with_lanes)\\n    plt.show()\\n    print(\"---------------------------------------------------\")\\n\\n'"
      ]
     },
     "execution_count": 11,
     "metadata": {},
     "output_type": "execute_result"
    }
   ],
   "source": [
    "\n",
    "left_line = Line()\n",
    "right_line = Line()\n",
    "\n",
    "images = sorted(glob.glob('./test_images_project_sunny/*'))\n",
    "print(len(images))\n",
    "\n",
    "\"\"\"\n",
    "# Make a list of test images \n",
    "\n",
    "img = mpimg.imread('test_images/test1.jpg')\n",
    "img_with_lanes = process_image(img, debug=True)\n",
    "\n",
    "plt.imshow(img_with_lanes)\n",
    "plt.show()\n",
    "\"\"\"\n",
    "\"\"\"\n",
    "# Iterate over all test images and show the detected lanes \n",
    "for fname in images:\n",
    "    \n",
    "    #left_line = Line()\n",
    "    #right_line = Line()\n",
    "\n",
    "    img = mpimg.imread(fname)\n",
    "    img_with_lanes = process_image(img, debug=True)\n",
    "    print(\"Results:\")\n",
    "    plt.imshow(img_with_lanes)\n",
    "    plt.show()\n",
    "    print(\"---------------------------------------------------\")\n",
    "\n",
    "\"\"\"\n",
    "\n"
   ]
  },
  {
   "cell_type": "markdown",
   "metadata": {},
   "source": [
    "---\n",
    "## Test on videoes"
   ]
  },
  {
   "cell_type": "code",
   "execution_count": null,
   "metadata": {},
   "outputs": [
    {
     "name": "stdout",
     "output_type": "stream",
     "text": [
      "[MoviePy] >>>> Building video test_videos_output/project_video.mp4\n",
      "[MoviePy] Writing video test_videos_output/project_video.mp4\n"
     ]
    },
    {
     "name": "stderr",
     "output_type": "stream",
     "text": [
      " 40%|████      | 507/1261 [04:08<06:22,  1.97it/s]"
     ]
    }
   ],
   "source": [
    "from moviepy.editor import VideoFileClip\n",
    "from IPython.display import HTML\n",
    "\n",
    "\n",
    "left_line = Line()\n",
    "right_line = Line()\n",
    "\n",
    "video = \"project_video.mp4\"\n",
    "clip1_output = \"test_videos_output/\"+video\n",
    "clip1 = VideoFileClip(video)\n",
    "clip1_processed = clip1.fl_image(process_image) # NOTE: this fucntion excepts color images\n",
    "\n",
    "\n",
    "%time clip1_processed.write_videofile(clip1_output, audio=False)\n",
    "\n"
   ]
  },
  {
   "cell_type": "code",
   "execution_count": 13,
   "metadata": {},
   "outputs": [
    {
     "data": {
      "text/html": [
       "\n",
       "<video width=\"960\" height=\"540\" controls>\n",
       "  <source src=\"test_videos_output/project_video.mp4\">\n",
       "</video>\n"
      ],
      "text/plain": [
       "<IPython.core.display.HTML object>"
      ]
     },
     "execution_count": 13,
     "metadata": {},
     "output_type": "execute_result"
    }
   ],
   "source": [
    "# Play yhe video inline\n",
    "HTML(\"\"\"\n",
    "<video width=\"960\" height=\"540\" controls>\n",
    "  <source src=\"{0}\">\n",
    "</video>\n",
    "\"\"\".format(clip1_output))"
   ]
  },
  {
   "cell_type": "markdown",
   "metadata": {},
   "source": [
    "---\n",
    "## Improved Lane Search "
   ]
  },
  {
   "cell_type": "code",
   "execution_count": null,
   "metadata": {
    "scrolled": true
   },
   "outputs": [],
   "source": []
  },
  {
   "cell_type": "code",
   "execution_count": null,
   "metadata": {},
   "outputs": [],
   "source": []
  }
 ],
 "metadata": {
  "kernelspec": {
   "display_name": "Python 3",
   "language": "python",
   "name": "python3"
  },
  "language_info": {
   "codemirror_mode": {
    "name": "ipython",
    "version": 3
   },
   "file_extension": ".py",
   "mimetype": "text/x-python",
   "name": "python",
   "nbconvert_exporter": "python",
   "pygments_lexer": "ipython3",
   "version": "3.6.3"
  }
 },
 "nbformat": 4,
 "nbformat_minor": 2
}
